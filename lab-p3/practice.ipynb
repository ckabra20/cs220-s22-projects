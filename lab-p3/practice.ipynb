{
 "cells": [
  {
   "cell_type": "code",
   "execution_count": null,
   "id": "59827818",
   "metadata": {},
   "outputs": [],
   "source": [
    "## Please make sure \"lab.py\" is in your \"lab-p3\" folder.\n",
    "## For now, just run this cell. We will be learning more in Segment 3.\n",
    "\n",
    "# It is a good practice to include all import statements at \n",
    "# the top of your notebook file.\n",
    "import lab"
   ]
  },
  {
   "cell_type": "markdown",
   "id": "4efdfea3-b2b5-4080-90bb-1447189224c7",
   "metadata": {},
   "source": [
    "## Segment 2: Defining your own functions and testing them.\n",
    "#### Task 2.1: Practice using `min()` and `max()`"
   ]
  },
  {
   "cell_type": "code",
   "execution_count": null,
   "id": "71051912-1de3-4e10-81ab-05ba0acd3fdf",
   "metadata": {},
   "outputs": [],
   "source": [
    "## Find the smallest number\n",
    "\n",
    "smallest = min(998, 232, 801)\n",
    "print(smallest)\n",
    "\n",
    "# Next, add another number as the last argument to min function call.\n",
    "# The new number should be lower than all the other numbers. \n",
    "# Run the cell again."
   ]
  },
  {
   "cell_type": "code",
   "execution_count": null,
   "id": "9ca84082-5adc-416d-a519-2661b5c9b1a6",
   "metadata": {},
   "outputs": [],
   "source": [
    "## Find the largest number\n",
    "\n",
    "largest = ???(998, 232, 801)\n",
    "print(largest)\n",
    "\n",
    "# Verify that your result is 998."
   ]
  },
  {
   "cell_type": "markdown",
   "id": "425dd4fb-031d-4994-a33d-1e760c704e14",
   "metadata": {},
   "source": [
    "#### Task 2.2: Write the function `get_avg_drop_lowest`.\n",
    "- This function will have three **parameters**, score1, score2, score3.\n",
    "- It adds up the 3 scores, subtracts out the min score, and then determines the average of the remaining two.\n",
    "- The example function calls enable you to verify your function definition:\n",
    "    - If your function has an error, fix it.  If you are not sure how, ask your neighbor for the TA for help. "
   ]
  },
  {
   "cell_type": "code",
   "execution_count": null,
   "id": "45e23367-a681-462e-85ea-2e35bc259fda",
   "metadata": {},
   "outputs": [],
   "source": [
    "def get_avg_drop_lowest(score1, score2, score3):\n",
    "    smallest = ???\n",
    "    sum_of_larger_two = ???\n",
    "    avg = ???\n",
    "    return avg"
   ]
  },
  {
   "cell_type": "code",
   "execution_count": null,
   "id": "ad0797e5-ab11-411b-82ba-b28651774fd7",
   "metadata": {},
   "outputs": [],
   "source": [
    "print(\"expected: 19.0  actual: \", get_avg_drop_lowest(18, 20, 17))"
   ]
  },
  {
   "cell_type": "code",
   "execution_count": null,
   "id": "9f8bb028-1d19-432c-abba-9398590ac5b0",
   "metadata": {},
   "outputs": [],
   "source": [
    "print(\"expected: 45.0  actual: \", get_avg_drop_lowest(42, 46, 44))"
   ]
  },
  {
   "cell_type": "markdown",
   "id": "1bde9180-9f33-4057-ab34-87ddcf93c09b",
   "metadata": {},
   "source": [
    "#### Task 2.3: Write the function `get_avg_max_counts_twice` with 4 parameters.\n",
    "- this function will work with 4 scores (as parameters).  \n",
    "- this function allows the max value to count twice, so there are in effect 5 values being averaged. "
   ]
  },
  {
   "cell_type": "code",
   "execution_count": null,
   "id": "5e58f5ee-e5c0-41fa-8fb3-93de7e1fdab7",
   "metadata": {},
   "outputs": [],
   "source": [
    "def get_avg_max_counts_twice(score1, score2, score3, score4):\n",
    "    largest = ???\n",
    "    sum_of_five_number = ???\n",
    "    avg = ??? / 5\n",
    "    return avg"
   ]
  },
  {
   "cell_type": "code",
   "execution_count": null,
   "id": "a8ec214d-3d38-4511-b7a7-29a729de5660",
   "metadata": {},
   "outputs": [],
   "source": [
    "print(\"expected: 48.0  actual: \", get_avg_max_counts_twice(30, 40, 60, 50) )"
   ]
  },
  {
   "cell_type": "code",
   "execution_count": null,
   "id": "4655f5ca-2e48-4401-ab39-0d1033424b14",
   "metadata": {},
   "outputs": [],
   "source": [
    "print(\"expected: 28.0  actual: \", get_avg_max_counts_twice(40, 20, 10, 30) )"
   ]
  },
  {
   "cell_type": "markdown",
   "id": "01be1d87-5da5-41e8-9acc-777c4eba3862",
   "metadata": {},
   "source": [
    "#### Task 2.4: Write the function `get_range` with 4 parameters."
   ]
  },
  {
   "cell_type": "code",
   "execution_count": null,
   "id": "9b89e23b-b0d1-4d36-989b-1d2e9aa1bae8",
   "metadata": {},
   "outputs": [],
   "source": [
    "def get_range(a, b, c, d):\n",
    "    '''returns the largest value minus the smallest value'''\n",
    "    # the above line after the header is called a **docstring**.  \n",
    "    # It helps someone reading or using your function understand what the function does.\n",
    "    largest = ???\n",
    "    smallest = ???\n",
    "    return ???"
   ]
  },
  {
   "cell_type": "code",
   "execution_count": null,
   "id": "9bfb52c0-6246-4838-8b50-50875decf565",
   "metadata": {},
   "outputs": [],
   "source": [
    "print(\"expected: 50  actual: \", get_range(10, 40, 60, 50) )"
   ]
  },
  {
   "cell_type": "code",
   "execution_count": null,
   "id": "2add018e-c4b8-4329-b25d-18b8f3fb09c2",
   "metadata": {},
   "outputs": [],
   "source": [
    "print(\"expected: 40  actual: \", get_range(70, 60, 30, 50) )"
   ]
  },
  {
   "cell_type": "markdown",
   "id": "7c44e2c9-b4f9-4158-b019-87447ccefeed",
   "metadata": {},
   "source": [
    "#### Task 2.5: Write the function `get_change_per_year`."
   ]
  },
  {
   "cell_type": "code",
   "execution_count": null,
   "id": "b0a31c71-f1ce-451e-bcf6-a4445c9dab97",
   "metadata": {},
   "outputs": [],
   "source": [
    "def get_change_per_year(year1, value1, year2, value2):\n",
    "    pass\n",
    "    # Sometimes when a programmer knows the header of a function,\n",
    "    # but does not know what code will go in the function just yet, \n",
    "    # they write `pass`.  \n",
    "    # This serves as a placeholder and allows the interpreter to run \n",
    "    # the function definition without generating a Syntax Error. \n",
    "    \n",
    "    # TODO: 1. Run this cell as such without making any changes\n",
    "    # TODO: 2. Comment out the line with pass and try to run this cell, \n",
    "    #          you'll get an error"
   ]
  },
  {
   "cell_type": "code",
   "execution_count": null,
   "id": "44b446fe-73ba-440b-96e8-ddc2198954c3",
   "metadata": {},
   "outputs": [],
   "source": [
    "print(\"expected: 67.15 \\t actual: \", get_change_per_year(2015, 654.8, 2019, 923.4))"
   ]
  },
  {
   "cell_type": "code",
   "execution_count": null,
   "id": "01f081fc-c7a1-4113-bddc-072828a593e1",
   "metadata": {},
   "outputs": [],
   "source": [
    "print(\"expected: -83.5 \\t actual: \", get_change_per_year(2020, 506.5, 2021, 423.0))"
   ]
  },
  {
   "cell_type": "markdown",
   "id": "33fbfa4c-c0f3-4e94-8d3f-8aca38c0e5f5",
   "metadata": {},
   "source": [
    "--------------------------------------------------------------\n",
    "## Segment 3: Inspecting lab.py\n",
    "#### Task 3.1: Exploring `lab.py`\n",
    "\n",
    "Let's check out the `lab.py`. `lab.py` is similar to (but not the same as) the `project.py` API that you will be using for project P3. \n",
    "\n",
    "`lab` is an example of a custom module. You can use any script mode file, that is a file with `.py` extension as a custom module. While importing the custom module, you will leave out the `.py`. Hence `import lab`. It is good practice to include all import statements at the beginning of the notebook file. That is why we already ran the cell containing `import lab`."
   ]
  },
  {
   "cell_type": "code",
   "execution_count": null,
   "id": "88b8dad2-9299-4008-be58-cb9b60235788",
   "metadata": {},
   "outputs": [],
   "source": [
    "# If you want, you can check expected output in github page for lab-p3 (not required).\n",
    "dir(lab)"
   ]
  },
  {
   "cell_type": "markdown",
   "id": "22435ce1",
   "metadata": {},
   "source": [
    "We see there are four functions here (ignoring the things beginning with two underscores):\n",
    "\n",
    "* `dump`\n",
    "* `get_spending`\n",
    "* `get_idx`\n",
    "* `init`"
   ]
  },
  {
   "cell_type": "code",
   "execution_count": null,
   "id": "500a781e-49da-4d87-a14d-02043ab59650",
   "metadata": {},
   "outputs": [],
   "source": [
    "# help function enables you to look at the documentation for a function\n",
    "# As an argument you need to pass the name of the function\n",
    "help(lab.dump)"
   ]
  },
  {
   "cell_type": "code",
   "execution_count": null,
   "id": "82ba0506-0662-4c10-96f2-012b216583dc",
   "metadata": {},
   "outputs": [],
   "source": [
    "# You will get an error when you invoke dump function.\n",
    "# If you want, you can check expected output in github page for lab-p3 (not required).\n",
    "lab.dump()"
   ]
  },
  {
   "cell_type": "code",
   "execution_count": null,
   "id": "8bd1af61-d039-4299-8fda-cf838d2fae77",
   "metadata": {},
   "outputs": [],
   "source": [
    "# TODO: Use help function to read documentation for lab.init function\n",
    "# If you want, you can check expected output in github page for lab-p3 (not required).\n",
    "help(???)"
   ]
  },
  {
   "cell_type": "markdown",
   "id": "bf249f1c",
   "metadata": {},
   "source": [
    "For some APIs, you must call certain function(s) before other function(s). For the `lab` and `project` APIs, you must invoke `init` function first. "
   ]
  },
  {
   "cell_type": "code",
   "execution_count": null,
   "id": "0a1be902-f030-46d4-98d1-62d50452ff49",
   "metadata": {},
   "outputs": [],
   "source": [
    "## Now you load the madison dataset\n",
    "lab.init(\"madison.csv\")"
   ]
  },
  {
   "cell_type": "markdown",
   "id": "5f9928e6-c00a-4a74-a960-aa573b1fcc44",
   "metadata": {},
   "source": [
    "#### Task 3.2: Using `lab.py`"
   ]
  },
  {
   "cell_type": "markdown",
   "id": "54cdf174",
   "metadata": {},
   "source": [
    "You can check expected output for the below cell in github page for lab-p3."
   ]
  },
  {
   "cell_type": "code",
   "execution_count": null,
   "id": "1904789e-f3d8-40a5-a157-5c3e9d2110ab",
   "metadata": {},
   "outputs": [],
   "source": [
    "## What's inside the \"madison.csv\" dataset?\n",
    "lab.dump()"
   ]
  },
  {
   "cell_type": "markdown",
   "id": "539ee716",
   "metadata": {},
   "source": [
    "This is actual spending data for five large agencies in the City of Madison over four years.\n",
    "\n",
    "Why do we need to call `init` before `dump` and other functions? Because `init` loads data from a CSV file (CSV files [short for comma separated values] are like simple spreadsheets), and in this lab or a future project you might want to also use a CSV file other than `madison.csv`.  For example, let's use `init` to load data from `lab.csv`."
   ]
  },
  {
   "cell_type": "code",
   "execution_count": null,
   "id": "af24591e",
   "metadata": {},
   "outputs": [],
   "source": [
    "# This cell is intentionally left blank\n",
    "# Read the next description and complete the TODO"
   ]
  },
  {
   "cell_type": "markdown",
   "id": "97780113",
   "metadata": {},
   "source": [
    "You will see this warning after you complete and run the below cell's code:\n",
    "\n",
    "WARNING!  Opening a path other than madison.csv.  That's fine for testing your code yourself, but madison.csv will be the only file around when we test your code for grading."
   ]
  },
  {
   "cell_type": "code",
   "execution_count": null,
   "id": "c1f3057d-ca6e-4f97-a88e-3d0cff7eac19",
   "metadata": {},
   "outputs": [],
   "source": [
    "## TODO: use lab.init function to load data from \"lab.csv\"\n",
    "lab.init(???)"
   ]
  },
  {
   "cell_type": "code",
   "execution_count": null,
   "id": "55bd3c93-b146-45a5-834e-956550815e0f",
   "metadata": {},
   "outputs": [],
   "source": [
    "## TODO: invoke the dump function to see the data inside \"lab.csv\"\n",
    "## Refer to Task 3.1 if you need refresher on how to invoke dump function in lab module\n",
    "# If you want, you can check expected output in github page for lab-p3 (not required).\n",
    "???"
   ]
  },
  {
   "cell_type": "code",
   "execution_count": null,
   "id": "386abcf3-e05c-4c42-8d96-766c49a9ade2",
   "metadata": {},
   "outputs": [],
   "source": [
    "## TODO: invoke help function to read the description of lab.get_idx function\n",
    "# If you want, you can check expected output in github page for lab-p3 (not required).\n",
    "???"
   ]
  },
  {
   "cell_type": "markdown",
   "id": "507858ab",
   "metadata": {},
   "source": [
    "`get_idx` looks up an index given a name."
   ]
  },
  {
   "cell_type": "code",
   "execution_count": null,
   "id": "7cbd5957-ec66-46b6-8569-b64a24b98d78",
   "metadata": {},
   "outputs": [],
   "source": [
    "## Here is an example invocation of get_idx function\n",
    "## This enables you to look up ID for \"environments\"\n",
    "lab.get_idx(\"environments\")"
   ]
  },
  {
   "cell_type": "markdown",
   "id": "14cdb2b9",
   "metadata": {},
   "source": [
    "`get_spending` looks up spending in a specific year, given an index."
   ]
  },
  {
   "cell_type": "code",
   "execution_count": null,
   "id": "e4348b13",
   "metadata": {},
   "outputs": [],
   "source": [
    "## invoke help function to read about get_spending function\n",
    "???"
   ]
  },
  {
   "cell_type": "markdown",
   "id": "4becdeb5",
   "metadata": {},
   "source": [
    "#### Index hardcoding\n",
    "- harcoding index is never a good idea:\n",
    "    - your dataset might potentially be updated in the future and your data might get different index\n",
    "- you should always use API call to retrive the index:\n",
    "    - in this project, you *must* call `get_idx` function\n",
    "- below is a bad example of `get_spending` invocation"
   ]
  },
  {
   "cell_type": "code",
   "execution_count": null,
   "id": "a711adef-ba2a-4a85-a676-f6630006112f",
   "metadata": {},
   "outputs": [],
   "source": [
    "## Looks up spending of environments with index 2 in 2020\n",
    "lab.get_spending(2, 2020)"
   ]
  },
  {
   "cell_type": "code",
   "execution_count": null,
   "id": "6eda1d53-10a1-4461-a56b-a0c90dbf8999",
   "metadata": {},
   "outputs": [],
   "source": [
    "## TODO: fix the above example\n",
    "## update it so that we don't hardcode the index(2)\n",
    "## Index 2 corresponds to \"environments\"\n",
    "lab.get_spending(2, 2020)"
   ]
  },
  {
   "cell_type": "markdown",
   "id": "658a2c3a",
   "metadata": {},
   "source": [
    "What is the default value of the parameter `year` in `get_spending`?\n",
    "- confirm your answer by going back and looking at help function output for `get_spending`"
   ]
  },
  {
   "cell_type": "code",
   "execution_count": null,
   "id": "9c50275b-7edc-48eb-bd8e-adcbe0dbe68e",
   "metadata": {},
   "outputs": [],
   "source": [
    "lab.get_spending(lab.get_idx(\"libraries\"))\n",
    "## TODO: which year's libraries spending are we looking up here?\n",
    "## Confirm your answer for the above question with a TA / PM"
   ]
  },
  {
   "cell_type": "markdown",
   "id": "431773cf",
   "metadata": {},
   "source": [
    "#### How can you verify your answers?\n",
    "- Let's open the dataset csv file\n",
    "- Go to github page for lab-p3, in a new tab open lab.csv\n",
    "- Now look at the csv file and determine whether you got the correct spending for \"libraries\" for the default value of the `year` parameter."
   ]
  },
  {
   "cell_type": "markdown",
   "id": "e6f02663-1910-49de-b3c1-410234d111ff",
   "metadata": {},
   "source": [
    "#### Task 3.3: Other Tasks"
   ]
  },
  {
   "cell_type": "code",
   "execution_count": null,
   "id": "366286b4-47cd-4d7d-9b94-6b43b71dbd1b",
   "metadata": {},
   "outputs": [],
   "source": [
    "## Let's switch back to `madison.csv`\n",
    "lab.init(\"madison.csv\")"
   ]
  },
  {
   "cell_type": "markdown",
   "id": "c8bf5b03",
   "metadata": {},
   "source": [
    "Let's experiment with the three ways of passing arguments:\n",
    "\n",
    "* `lab.get_spending(lab.get_idx(\"gyms\"), 2020)` (positional argument for year)\n",
    "* `lab.get_spending(lab.get_idx(\"gyms\"), year = 2020)` (keyword argument for year)\n",
    "* `lab.get_spending(lab.get_idx(\"gyms\"))` (default argument for year)\n",
    "\n",
    "Try each of the above function call in each of the below cells. Make sure to open `madison.csv`, to verify your answers."
   ]
  },
  {
   "cell_type": "code",
   "execution_count": null,
   "id": "61fd89c4-b57e-4b84-9ec7-3ba183a40dbd",
   "metadata": {},
   "outputs": [],
   "source": [
    "# Positional arguments always match up with the corresponding \n",
    "# parameters in the exact order of the parameters\n",
    "lab.get_spending(lab.get_idx(\"gyms\"), 2020)"
   ]
  },
  {
   "cell_type": "code",
   "execution_count": null,
   "id": "26460bab-46c9-4f7e-822e-a10571251192",
   "metadata": {},
   "outputs": [],
   "source": []
  },
  {
   "cell_type": "code",
   "execution_count": null,
   "id": "3722ec2f-776e-4dc5-8d45-d3818e29c466",
   "metadata": {},
   "outputs": [],
   "source": []
  },
  {
   "cell_type": "markdown",
   "id": "aa1b552b",
   "metadata": {},
   "source": [
    "Keyword arguments cannot come before positional arguments. The below function call should give you an error.\n",
    "Great thing about keyword arguments - your arguments order need not match with the parameters order (in function defintion)."
   ]
  },
  {
   "cell_type": "code",
   "execution_count": null,
   "id": "ef5dde3c",
   "metadata": {},
   "outputs": [],
   "source": [
    "# TODO: fix this error by converting the 2nd argument to keyword\n",
    "# Go back and look at help function call output for get_spending function and\n",
    "# find the name of the appropriate parameter\n",
    "# If you are unsure, please get help from TA / PM\n",
    "\n",
    "lab.get_spending(year = 2020, lab.get_idx(\"gyms\"))"
   ]
  },
  {
   "cell_type": "markdown",
   "id": "8243004f",
   "metadata": {},
   "source": [
    "In Python number of arguments should always exactly match the number of parameters, no more and no less.\n",
    "\n",
    "Exception: when parameters have default values, you may chose not to pass arguments to those parameters."
   ]
  },
  {
   "cell_type": "code",
   "execution_count": null,
   "id": "0a1df309",
   "metadata": {},
   "outputs": [],
   "source": [
    "# This function call will give you an error\n",
    "# TODO: tell a TA / PM why this function call gives you error\n",
    "lab.get_spending(lab.get_idx(\"schools\"), 2019, year = 2019)"
   ]
  },
  {
   "cell_type": "markdown",
   "id": "4019d90d-b4a2-4ef4-875d-5895c05e73bd",
   "metadata": {},
   "source": [
    "##### Bad function call examples"
   ]
  },
  {
   "cell_type": "markdown",
   "id": "ceaf01ae",
   "metadata": {},
   "source": [
    "##### What is ID for \"hospitals\"?\n",
    "This data don't exist in `madison.csv`. So clearly, we must get an error."
   ]
  },
  {
   "cell_type": "code",
   "execution_count": null,
   "id": "0442cd9b",
   "metadata": {},
   "outputs": [],
   "source": []
  },
  {
   "cell_type": "markdown",
   "id": "1cd25b82",
   "metadata": {},
   "source": [
    "##### What happens when you have a typo in the name, that is try \"Hospitals\" or \"Hospital\"?\n",
    "Those data don't exist in `madison.csv`. So clearly, we must get an error."
   ]
  },
  {
   "cell_type": "code",
   "execution_count": null,
   "id": "7db033c3",
   "metadata": {},
   "outputs": [],
   "source": []
  },
  {
   "cell_type": "markdown",
   "id": "a69c4ab8",
   "metadata": {},
   "source": [
    "##### Fix hardcoding in the below function calls. Look at the data within `madison.csv` to determine the name, instead of hardcoding the index."
   ]
  },
  {
   "cell_type": "code",
   "execution_count": null,
   "id": "0868c1e4",
   "metadata": {},
   "outputs": [],
   "source": [
    "# Show your answers to a TA / PM\n",
    "print(lab.get_spending(122, 2018))\n",
    "print(lab.get_spending(15, 2019))"
   ]
  },
  {
   "cell_type": "markdown",
   "id": "5882b77e",
   "metadata": {},
   "source": [
    "##### Try out these bad examples for init function call."
   ]
  },
  {
   "cell_type": "code",
   "execution_count": null,
   "id": "b74d8bf1",
   "metadata": {},
   "outputs": [],
   "source": [
    "lab.init(\"BAD.csv\")"
   ]
  },
  {
   "cell_type": "code",
   "execution_count": null,
   "id": "402097d8",
   "metadata": {},
   "outputs": [],
   "source": [
    "lab.init(220)"
   ]
  },
  {
   "cell_type": "code",
   "execution_count": null,
   "id": "4a803752",
   "metadata": {},
   "outputs": [],
   "source": [
    "lab.init()"
   ]
  },
  {
   "cell_type": "markdown",
   "id": "dd8c5795",
   "metadata": {},
   "source": [
    "##### Also, try this bad invocation for dump"
   ]
  },
  {
   "cell_type": "code",
   "execution_count": null,
   "id": "ece2c85b",
   "metadata": {},
   "outputs": [],
   "source": [
    "lab.dump(True)"
   ]
  },
  {
   "cell_type": "markdown",
   "id": "6a0dc77f",
   "metadata": {},
   "source": [
    "Now you know how to get the data from `madison.csv` and `lab.csv`."
   ]
  },
  {
   "cell_type": "markdown",
   "id": "b4018a14-b5cc-4ada-8a0c-63395836442c",
   "metadata": {},
   "source": [
    "-------------------------------\n",
    "## Segment 4: Analysing `madison.csv`\n",
    "#### Task 4.1: What is the maximum/minimum spending in 2020 in `madison.csv`?"
   ]
  },
  {
   "cell_type": "markdown",
   "id": "3c08ee5c",
   "metadata": {},
   "source": [
    "To know the maximum value, you should get their spending in 2020 as variables first."
   ]
  },
  {
   "cell_type": "code",
   "execution_count": null,
   "id": "797b7977",
   "metadata": {},
   "outputs": [],
   "source": [
    "# TODO: Call init function to load data from \"madison.csv\"\n",
    "\n",
    "# Verify that dump() function is displaying data from \"madison.csv\""
   ]
  },
  {
   "cell_type": "code",
   "execution_count": null,
   "id": "9fb9bfde-c81e-4371-b19b-ba50d2852405",
   "metadata": {},
   "outputs": [],
   "source": [
    "# TODO: complete the missing code\n",
    "schools_spending = lab.get_spending(lab.get_idx(\"schools\"), 2020)\n",
    "gyms_spending = ???\n",
    "restaurants_spending = ???\n",
    "stores_spending = ???\n",
    "governments_spending = ???"
   ]
  },
  {
   "cell_type": "markdown",
   "id": "dbf3cd4e",
   "metadata": {},
   "source": [
    "Using these five variables, you can find the maximum value by using max function."
   ]
  },
  {
   "cell_type": "code",
   "execution_count": null,
   "id": "ec6f165f-3ee8-4b24-b5ba-ad0d9a63a438",
   "metadata": {},
   "outputs": [],
   "source": [
    "max_value = ???\n",
    "max_value"
   ]
  },
  {
   "cell_type": "code",
   "execution_count": null,
   "id": "22c98aeb-a189-4b3a-b184-c7d7738e7f17",
   "metadata": {},
   "outputs": [],
   "source": [
    "min_value = ???\n",
    "min_value"
   ]
  },
  {
   "cell_type": "markdown",
   "id": "62f07be3-9b8a-4add-9543-fc819a23a316",
   "metadata": {},
   "source": [
    "#### Task 4.2: What is the change rate of schools between 2017 and 2020 in `madison.csv`?"
   ]
  },
  {
   "cell_type": "code",
   "execution_count": null,
   "id": "105339dc-7311-4f51-ba0e-d4c63985378b",
   "metadata": {},
   "outputs": [],
   "source": [
    "## TODO: Find the spending in two years first.\n",
    "schools_spending_17 = lab.get_spending(lab.get_idx(\"schools\"), 2017)\n",
    "schools_spending_20 = ???\n",
    "# Incremental coding is always a good practice\n",
    "# Use print function call to display each of these variables\n"
   ]
  },
  {
   "cell_type": "code",
   "execution_count": null,
   "id": "2734cd4e-c9f1-43bd-a220-78f28c0b6f01",
   "metadata": {},
   "outputs": [],
   "source": [
    "## TODO: Then we can calculate the change rate using the code below.\n",
    "change_rate = get_change_per_year(???, ???, ???, ???) # call the function you wrote in Segment 2\n",
    "change_rate"
   ]
  },
  {
   "cell_type": "markdown",
   "id": "b2fa4e5b",
   "metadata": {},
   "source": [
    "You should get 3.2706887566666674. Change rate is positive, it shows that the spending of schools increased between 2017 and 2020. Notice that in this case, \"schools\" is hardcoded. What if we want to be able to calculate the change rate for any arbitrary agency? Let's practice how to create a function that takes an agency as a parameter."
   ]
  },
  {
   "cell_type": "code",
   "execution_count": null,
   "id": "033d8e5e-9f8d-4e29-9cdc-296871969980",
   "metadata": {},
   "outputs": [],
   "source": [
    "## Let's make a new function with agency as one of the parameters\n",
    "## TODO: How many parameters in the below function have default values? \n",
    "#        Verify your answer with a TA / PM\n",
    "## TODO: complete the missing code based on the code in the previous two input cells\n",
    "def change_rate_function(agency, start_year = 2017, end_year = 2020):\n",
    "    start_year_spending = ???\n",
    "    end_year_spending = ???\n",
    "    change_rate = ???\n",
    "    return change_rate"
   ]
  },
  {
   "cell_type": "code",
   "execution_count": null,
   "id": "f1b73d95-866c-4403-bc92-19432ef2452e",
   "metadata": {},
   "outputs": [],
   "source": [
    "change_rate_function(\"gyms\", 2018, 2019) # expected: 1.1757128399999957"
   ]
  },
  {
   "cell_type": "code",
   "execution_count": null,
   "id": "5b59d70a-ce4e-49c4-b341-e305174ba727",
   "metadata": {},
   "outputs": [],
   "source": [
    "change_rate_function(\"restaurants\", 2017, 2018) # expected: 1.1600871399999981"
   ]
  },
  {
   "cell_type": "markdown",
   "id": "e6581f36-3232-4a82-805d-4485d9a059b7",
   "metadata": {},
   "source": [
    "-------------------------------\n",
    "## Congrats! Now you are ready to start p3."
   ]
  }
 ],
 "metadata": {
  "kernelspec": {
   "display_name": "Python 3 (ipykernel)",
   "language": "python",
   "name": "python3"
  },
  "language_info": {
   "codemirror_mode": {
    "name": "ipython",
    "version": 3
   },
   "file_extension": ".py",
   "mimetype": "text/x-python",
   "name": "python",
   "nbconvert_exporter": "python",
   "pygments_lexer": "ipython3",
   "version": "3.9.7"
  }
 },
 "nbformat": 4,
 "nbformat_minor": 5
}
